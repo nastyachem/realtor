{
  "cells": [
    {
      "cell_type": "code",
      "execution_count": null,
      "metadata": {},
      "outputs": [
        {
          "name": "stdout",
          "output_type": "stream",
          "text": [
            "✅ Библиотеки загружены с поддержкой UTF-8\n"
          ]
        }
      ],
      "source": [
        "# -*- coding: utf-8 -*-\n",
        "import random\n",
        "import pandas as pd\n",
        "from tenacity import retry, stop_after_attempt, wait_exponential\n",
        "from hashlib import md5\n",
        "from openai import OpenAI\n",
        "from tqdm import tqdm\n",
        "import os\n",
        "import sys\n",
        "import json\n",
        "\n",
        "# Принудительная установка кодировки UTF-8\n",
        "os.environ['PYTHONIOENCODING'] = 'utf-8'\n",
        "if hasattr(sys.stdout, 'reconfigure'):\n",
        "    sys.stdout.reconfigure(encoding='utf-8')\n",
        "  \n",
        "print(\"✅ Библиотеки загружены с поддержкой UTF-8\")\n"
      ]
    },
    {
      "cell_type": "code",
      "execution_count": null,
      "metadata": {},
      "outputs": [
        {
          "name": "stdout",
          "output_type": "stream",
          "text": [
            "✅ OpenAI клиент настроен\n"
          ]
        }
      ],
      "source": [
        "# Настройка OpenAI с API ключом\n",
        "api_key = \"api key\"\n",
        "\n",
        "client = OpenAI(api_key=api_key)\n",
        "print(\"✅ OpenAI клиент настроен\")\n",
        "\n",
        "NUM_DIALOGS = 100\n",
        "OUTPUT_FILE = \"real_estate_dialogs3.csv\"\n"
      ]
    },
    {
      "cell_type": "code",
      "execution_count": null,
      "metadata": {},
      "outputs": [],
      "source": [
        "\n"
      ]
    },
    {
      "cell_type": "code",
      "execution_count": 11,
      "metadata": {},
      "outputs": [
        {
          "name": "stdout",
          "output_type": "stream",
          "text": [
            "✅ Настройки диалогов загружены на русском языке\n"
          ]
        }
      ],
      "source": [
        "# Этапы воронки продаж на русском языке\n",
        "SALES_FUNNEL_STAGES = [\n",
        "    {\n",
        "        \"name\": \"Установление контакта\",\n",
        "        \"prompt\": \"Сгенери диалог холодного звонка менеджера по недвижимости. Стиль менеджера: {manager_style}. Настроение клиента: {client_mood}. Цель: договориться о встрече. Детали: {details}. 5-8 реплик каждый.\",\n",
        "        \"criteria\": {\n",
        "            \"установление_контакта\": 5,\n",
        "            \"выявление_потребностей\": 2,\n",
        "            \"презентация\": 1,\n",
        "            \"работа_с_возражениями\": 3,\n",
        "            \"закрытие\": 1\n",
        "        },\n",
        "        \"variations\": {\n",
        "            \"manager_style\": [\"дружелюбный\", \"профессиональный\", \"настойчивый\"],\n",
        "            \"client_mood\": [\"раздраженный\", \"равнодушный\", \"заинтересованный\"],\n",
        "            \"details\": [\"ЖК 'Премиум'\", \"вторичка в центре\", \"загородный дом\"]\n",
        "        }\n",
        "    },\n",
        "    {\n",
        "        \"name\": \"Выявление потребностей\",\n",
        "        \"prompt\": \"Диалог на встрече в офисе. Менеджер использует {technique}. Тип клиента: {client_type}. Ключевые параметры: {params}. 6-10 реплик каждый.\",\n",
        "        \"criteria\": {\n",
        "            \"установление_контакта\": 3,\n",
        "            \"выявление_потребностей\": 5,\n",
        "            \"презентация\": 2,\n",
        "            \"работа_с_возражениями\": 2,\n",
        "            \"закрытие\": 1\n",
        "        },\n",
        "        \"variations\": {\n",
        "            \"technique\": [\"СПИН-вопросы\", \"открытые вопросы\", \"активное слушание\"],\n",
        "            \"client_type\": [\"молодая семья\", \"инвестор\", \"пенсионер\"],\n",
        "            \"params\": [\"бюджет 6-8 млн\", \"сроки 3 месяца\", \"ипотека готова\"]\n",
        "        }\n",
        "    },\n",
        "    {\n",
        "        \"name\": \"Презентация объекта\",\n",
        "        \"prompt\": \"Диалог при показе недвижимости. Объект: {property_type}. Метод презентации: {method}. Первое возражение: {objection}. 7-9 реплик каждый.\",\n",
        "        \"criteria\": {\n",
        "            \"установление_контакта\": 2,\n",
        "            \"выявление_потребностей\": 3,\n",
        "            \"презентация\": 5,\n",
        "            \"работа_с_возражениями\": 3,\n",
        "            \"закрытие\": 2\n",
        "        },\n",
        "        \"variations\": {\n",
        "            \"property_type\": [\"1-к квартира\", \"студия\", \"таунхаус\"],\n",
        "            \"method\": [\"FAB метод\", \"демонстрация преимуществ\", \"сторителлинг\"],\n",
        "            \"objection\": [\"мало света\", \"далеко от метро\", \"слишком высокие потолки\"]\n",
        "        }\n",
        "    },\n",
        "    {\n",
        "        \"name\": \"Работа с возражениями\",\n",
        "        \"prompt\": \"Клиент серьезно возражает по теме: {objection}. Менеджер применяет технику: {technique}. Итог: {outcome}. 8-12 реплик каждый.\",\n",
        "        \"criteria\": {\n",
        "            \"установление_контакта\": 2,\n",
        "            \"выявление_потребностей\": 2,\n",
        "            \"презентация\": 3,\n",
        "            \"работа_с_возражениями\": 5,\n",
        "            \"закрытие\": 3\n",
        "        },\n",
        "        \"variations\": {\n",
        "            \"objection\": [\"слишком дорого\", \"плохой район\", \"нужен ремонт\"],\n",
        "            \"technique\": [\"LAER метод\", \"согласие+контраргумент\", \"перефразирование\"],\n",
        "            \"outcome\": [\"клиент согласился\", \"просит скидку\", \"откладывает решение\"]\n",
        "        }\n",
        "    },\n",
        "    {\n",
        "        \"name\": \"Закрытие сделки\",\n",
        "        \"prompt\": \"Финальная часть переговоров. Техника закрытия: {method}. Уровень давления: {pressure}. Результат встречи: {result}. 5-7 реплик каждый.\",\n",
        "        \"criteria\": {\n",
        "            \"установление_контакта\": 3,\n",
        "            \"выявление_потребностей\": 2,\n",
        "            \"презентация\": 2,\n",
        "            \"работа_с_возражениями\": 3,\n",
        "            \"закрытие\": 5\n",
        "        },\n",
        "        \"variations\": {\n",
        "            \"method\": [\"альтернативный выбор\", \"прямое предложение\", \"искусственное ограничение\"],\n",
        "            \"pressure\": [\"акция до конца недели\", \"есть другие покупатели\", \"мягкое подталкивание\"],\n",
        "            \"result\": [\"успешная сделка\", \"мягкий отказ\", \"продажа доп. услуги\"]\n",
        "        }\n",
        "    }\n",
        "]\n",
        "\n",
        "# Системный промпт на русском языке\n",
        "SYSTEM_PROMPT = \"\"\"Ты эксперт по продажам недвижимости. Генерируй УНИКАЛЬНЫЕ диалоги по следующим правилам:\n",
        "\n",
        "1. Естественность: веди переписку как в мессенджере с клиентом\n",
        "2. Конкретика: точные цифры (цена, метраж, сроки), учитывай российский рынок недвижимости  \n",
        "3. Разнообразие: в 20% диалогов допускай ошибки менеджера для реалистичности\n",
        "4. Воронка продаж: не пропускай ключевые этапы взаимодействия\n",
        "\n",
        "Формат ответа:\n",
        "Менеджер: [текст]\n",
        "Клиент: [текст]  \n",
        "Менеджер: [текст]\n",
        "...и так далее\"\"\"\n",
        "\n",
        "print(\"✅ Настройки диалогов загружены на русском языке\")\n"
      ]
    },
    {
      "cell_type": "code",
      "execution_count": 12,
      "metadata": {},
      "outputs": [
        {
          "name": "stdout",
          "output_type": "stream",
          "text": [
            "✅ Функции генерации готовы к работе\n"
          ]
        }
      ],
      "source": [
        "@retry(stop=stop_after_attempt(3), wait=wait_exponential(multiplier=1, min=4, max=10))\n",
        "def generate_dialog(scenario):\n",
        "    \"\"\"Генерирует один уникальный диалог с поддержкой UTF-8\"\"\"\n",
        "    params = {k: random.choice(v) for k, v in scenario[\"variations\"].items()}\n",
        "    prompt = scenario[\"prompt\"].format(**params)\n",
        "    \n",
        "    response = client.chat.completions.create(\n",
        "        model=\"gpt-4o-mini\",  # ПРАВИЛЬНАЯ МОДЕЛЬ!\n",
        "        messages=[\n",
        "            {\"role\": \"system\", \"content\": SYSTEM_PROMPT},\n",
        "            {\"role\": \"user\", \"content\": prompt}\n",
        "        ],\n",
        "        temperature=0.8,\n",
        "        frequency_penalty=1.5,\n",
        "        presence_penalty=1.2\n",
        "    )\n",
        "    dialog = response.choices[0].message.content\n",
        "    return dialog, params\n",
        "\n",
        "def generate_dataset():\n",
        "    \"\"\"Генерирует уникальные диалоги на русском языке\"\"\"\n",
        "    dataset = []\n",
        "    hashes = set()\n",
        "    \n",
        "    print(f\"🚀 Начинаем генерацию {NUM_DIALOGS} диалогов на русском языке...\")\n",
        "    \n",
        "    with tqdm(total=NUM_DIALOGS, desc=\"Генерация диалогов\", ncols=100) as pbar:\n",
        "        attempts = 0\n",
        "        max_attempts = NUM_DIALOGS * 3  # Защита от бесконечного цикла\n",
        "        \n",
        "        while len(dataset) < NUM_DIALOGS and attempts < max_attempts:\n",
        "            attempts += 1\n",
        "            try:\n",
        "                scenario = random.choice(SALES_FUNNEL_STAGES)\n",
        "                dialog, params = generate_dialog(scenario)\n",
        "                \n",
        "                # Хэшируем с учетом UTF-8\n",
        "                dialog_hash = md5(dialog.encode('utf-8')).hexdigest()\n",
        "                \n",
        "                if dialog_hash not in hashes:  # Проверка на уникальность\n",
        "                    hashes.add(dialog_hash)\n",
        "                    dataset.append({\n",
        "                        \"text\": dialog,\n",
        "                        \"stage\": scenario[\"name\"],\n",
        "                        **scenario[\"criteria\"],\n",
        "                        **params\n",
        "                    })\n",
        "                    pbar.update(1)\n",
        "                    \n",
        "            except Exception as e:\n",
        "                print(f\"⚠️ Ошибка при генерации диалога: {e}\")\n",
        "                continue\n",
        "    \n",
        "    return pd.DataFrame(dataset)\n",
        "\n",
        "print(\"✅ Функции генерации готовы к работе\")\n"
      ]
    },
    {
      "cell_type": "code",
      "execution_count": null,
      "metadata": {},
      "outputs": [],
      "source": []
    },
    {
      "cell_type": "code",
      "execution_count": 13,
      "metadata": {},
      "outputs": [
        {
          "name": "stdout",
          "output_type": "stream",
          "text": [
            "🎯 Начинаем генерацию диалогов...\n",
            "🚀 Начинаем генерацию 100 диалогов на русском языке...\n"
          ]
        },
        {
          "name": "stderr",
          "output_type": "stream",
          "text": [
            "Генерация диалогов: 100%|█████████████████████████████████████████| 100/100 [33:04<00:00, 19.85s/it]"
          ]
        },
        {
          "name": "stdout",
          "output_type": "stream",
          "text": [
            "✅ Сохранено 100 уникальных диалогов в файл real_estate_dialogs3.csv\n",
            "📊 Распределение по этапам:\n",
            "stage\n",
            "Презентация объекта       26\n",
            "Работа с возражениями     24\n",
            "Выявление потребностей    19\n",
            "Закрытие сделки           17\n",
            "Установление контакта     14\n",
            "Name: count, dtype: int64\n",
            "\n",
            "💾 Размер файла: (100, 19)\n",
            "📝 Пример диалога:\n",
            "==================================================\n",
            "Менеджер: Добрый день! Рад вас видеть. Как настроение? \n",
            "\n",
            "Клиент: Добрый день! Все отлично, спасибо. Мы очень надеемся найти подходящую квартиру.\n",
            "\n",
            "Менеджер: Это замечательно! Какие основные критерии для вас важны при выборе жилья?\n",
            "\n",
            "Клиент: Нам нужна квартира с двумя спальнями и в районе с хорошей инфраструктурой — магазины, школы рядом. Площадь около 70-80 квадратов.\n",
            "\n",
            "Менеджер: Понял вас. У нас есть несколько интересных вариантов в пределах 7-9 миллионов рублей на эту площадь. Вам важно также нал...\n"
          ]
        },
        {
          "name": "stderr",
          "output_type": "stream",
          "text": [
            "\n"
          ]
        }
      ],
      "source": [
        "# Запускаем генерацию диалогов\n",
        "print(\"🎯 Начинаем генерацию диалогов...\")\n",
        "\n",
        "df = generate_dataset()\n",
        "df.to_csv(OUTPUT_FILE, index=False, encoding='utf-8-sig')\n",
        "\n",
        "print(f\"✅ Сохранено {len(df)} уникальных диалогов в файл {OUTPUT_FILE}\")\n",
        "print(f\"📊 Распределение по этапам:\")\n",
        "print(df['stage'].value_counts())\n",
        "print(f\"\\n💾 Размер файла: {df.shape}\")\n",
        "print(f\"📝 Пример диалога:\")\n",
        "print(\"=\" * 50)\n",
        "print(df.iloc[0]['text'][:500] + \"...\")\n"
      ]
    },
    {
      "cell_type": "raw",
      "metadata": {
        "vscode": {
          "languageId": "raw"
        }
      },
      "source": [
        "# 🎯 Инструкции по использованию\n",
        "\n",
        "## Основные улучшения:\n",
        "\n",
        "### ✅ Умное управление rate limit'ами\n",
        "- **Адаптивные задержки**: автоматически подстраиваются под API лимиты  \n",
        "- **Экспоненциальный backoff**: увеличение времени ожидания при ошибках 429\n",
        "- **Статистика запросов**: отслеживание success rate и производительности\n",
        "\n",
        "### 💾 Сохранение промежуточных результатов\n",
        "- **Checkpoint система**: сохранение каждые 10 диалогов в `dialogs_checkpoint.json`\n",
        "- **Возобновление работы**: автоматическая загрузка при перезапуске\n",
        "- **Защита от потерь**: данные не пропадут при прерывании\n",
        "\n",
        "### 📊 Мониторинг прогресса\n",
        "- **Real-time статистика**: отображение текущих метрик\n",
        "- **Интеллектуальная обработка ошибок**: различение типов ошибок API\n",
        "- **Graceful shutdown**: корректное завершение при Ctrl+C\n",
        "\n",
        "## Как использовать:\n",
        "\n",
        "1. **Первый запуск**: просто выполните все ячейки\n",
        "2. **Возобновление**: перезапустите - система автоматически загрузит checkpoint\n",
        "3. **Настройка**: измените `NUM_DIALOGS`, `MIN_DELAY`, `MAX_DELAY` если нужно\n",
        "4. **Прерывание**: нажмите Ctrl+C - прогресс сохранится\n",
        "\n",
        "## Параметры rate limiting:\n",
        "\n",
        "- `MIN_DELAY = 2.0` - минимальная задержка между запросами (секунды)\n",
        "- `MAX_DELAY = 60.0` - максимальная задержка при rate limit  \n",
        "- `BATCH_SIZE = 10` - частота сохранения checkpoint'ов\n"
      ]
    }
  ],
  "metadata": {
    "kernelspec": {
      "display_name": "realtor",
      "language": "python",
      "name": "python3"
    },
    "language_info": {
      "codemirror_mode": {
        "name": "ipython",
        "version": 3
      },
      "file_extension": ".py",
      "mimetype": "text/x-python",
      "name": "python",
      "nbconvert_exporter": "python",
      "pygments_lexer": "ipython3",
      "version": "3.11.13"
    }
  },
  "nbformat": 4,
  "nbformat_minor": 2
}
